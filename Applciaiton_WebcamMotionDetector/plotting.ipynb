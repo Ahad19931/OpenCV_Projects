{
 "cells": [
  {
   "cell_type": "code",
   "execution_count": 6,
   "metadata": {},
   "outputs": [],
   "source": [
    "import cv2, time, pandas\n",
    "from datetime import datetime\n",
    "\n",
    "first_frame = None\n",
    "status_list = [None, None]\n",
    "times = []\n",
    "video = cv2.VideoCapture(0)\n",
    "df = pandas.DataFrame(columns = (\"Start\", \"End\"))\n",
    "\n",
    "while True:\n",
    "    check, frame = video.read()\n",
    "    status = 0\n",
    "    gray_frame = cv2.cvtColor(frame, cv2.COLOR_BGR2GRAY)\n",
    "    gray_frame = cv2.GaussianBlur(gray_frame,(21,21),0)\n",
    "    \n",
    "    if first_frame is None:\n",
    "        first_frame = gray_frame\n",
    "        continue\n",
    "    \n",
    "    delta_frame = cv2.absdiff(first_frame, gray_frame)\n",
    "    threshold_frame = cv2.threshold(delta_frame, 30, 255, cv2.THRESH_BINARY)[1]\n",
    "    threshold_frame = cv2.dilate(threshold_frame, None, iterations = 2)\n",
    "    (cnts,_) = cv2.findContours(threshold_frame.copy(), cv2.RETR_EXTERNAL, cv2.CHAIN_APPROX_SIMPLE)\n",
    "    \n",
    "    for contour in cnts:\n",
    "        if cv2.contourArea(contour) < 5000:\n",
    "            continue\n",
    "        (x, y, w, h) = cv2.boundingRect(contour)\n",
    "        status = 1\n",
    "        cv2.rectangle(frame, (x,y), (x+w, y+h), (0,255,0), 3)\n",
    "    status_list.append(status)\n",
    "    status_list = status_list[-2:]\n",
    "\n",
    "    if status_list[-1] == 1 and status_list[-2] == 0:\n",
    "        times.append(datetime.now())\n",
    "    if status_list[-1] == 0 and status_list[-2] == 1:\n",
    "        times.append(datetime.now())\n",
    "    \n",
    "    cv2.imshow(\"Gray Frame\", gray_frame)\n",
    "    cv2.imshow(\"Delta Frame\", delta_frame)\n",
    "    cv2.imshow(\"Threshold Frame\", threshold_frame)\n",
    "    cv2. imshow(\"Color Frame\", frame)\n",
    "    \n",
    "    key = cv2.waitKey(1)\n",
    "    if key == ord('q'):\n",
    "        if status == 1:\n",
    "            times.append(datetime.now())\n",
    "        break\n",
    "for i in range(0, len(times), 2):\n",
    "    df = df.append({\"Start\":times[i], \"End\":times[i+1]}, ignore_index = True)\n",
    "df.to_csv(\"Times.csv\")\n",
    "\n",
    "video.release()\n",
    "cv2.destroyAllWindows()"
   ]
  },
  {
   "cell_type": "code",
   "execution_count": 10,
   "metadata": {},
   "outputs": [
    {
     "ename": "RuntimeError",
     "evalue": "\n\nExpected left and right to reference fields in the supplied data source.\n\nWhen a 'source' argument is passed to a glyph method, values that are sequences\n(like lists or arrays) must come from references to data columns in the source.\n\nFor instance, as an example:\n\n    source = ColumnDataSource(data=dict(x=a_list, y=an_array))\n\n    p.circle(x='x', y='y', source=source, ...) # pass column names and a source\n\nAlternatively, *all* data sequences may be provided as literals as long as a\nsource is *not* provided:\n\n    p.circle(x=a_list, y=an_array, ...)  # pass actual sequences and no source\n\n",
     "output_type": "error",
     "traceback": [
      "\u001b[1;31m---------------------------------------------------------------------------\u001b[0m",
      "\u001b[1;31mRuntimeError\u001b[0m                              Traceback (most recent call last)",
      "\u001b[1;32m<ipython-input-10-65107280e972>\u001b[0m in \u001b[0;36m<module>\u001b[1;34m\u001b[0m\n\u001b[0;32m     16\u001b[0m \u001b[0mfig\u001b[0m\u001b[1;33m.\u001b[0m\u001b[0madd_tools\u001b[0m\u001b[1;33m(\u001b[0m\u001b[0mhover\u001b[0m\u001b[1;33m)\u001b[0m\u001b[1;33m\u001b[0m\u001b[1;33m\u001b[0m\u001b[0m\n\u001b[0;32m     17\u001b[0m \u001b[1;33m\u001b[0m\u001b[0m\n\u001b[1;32m---> 18\u001b[1;33m \u001b[0mq\u001b[0m \u001b[1;33m=\u001b[0m \u001b[0mfig\u001b[0m\u001b[1;33m.\u001b[0m\u001b[0mquad\u001b[0m\u001b[1;33m(\u001b[0m\u001b[0mleft\u001b[0m \u001b[1;33m=\u001b[0m \u001b[1;33m[\u001b[0m\u001b[1;34m\"Start\"\u001b[0m\u001b[1;33m]\u001b[0m\u001b[1;33m,\u001b[0m \u001b[0mright\u001b[0m \u001b[1;33m=\u001b[0m \u001b[0mdf\u001b[0m\u001b[1;33m[\u001b[0m\u001b[1;34m\"End\"\u001b[0m\u001b[1;33m]\u001b[0m\u001b[1;33m,\u001b[0m \u001b[0mbottom\u001b[0m \u001b[1;33m=\u001b[0m \u001b[1;36m0\u001b[0m\u001b[1;33m,\u001b[0m \u001b[0mtop\u001b[0m \u001b[1;33m=\u001b[0m \u001b[1;36m1\u001b[0m\u001b[1;33m,\u001b[0m \u001b[0mcolor\u001b[0m \u001b[1;33m=\u001b[0m \u001b[1;34m\"green\"\u001b[0m\u001b[1;33m,\u001b[0m \u001b[0msource\u001b[0m \u001b[1;33m=\u001b[0m \u001b[0mcds\u001b[0m\u001b[1;33m)\u001b[0m\u001b[1;33m\u001b[0m\u001b[1;33m\u001b[0m\u001b[0m\n\u001b[0m\u001b[0;32m     19\u001b[0m \u001b[1;33m\u001b[0m\u001b[0m\n\u001b[0;32m     20\u001b[0m \u001b[0moutput_file\u001b[0m\u001b[1;33m(\u001b[0m\u001b[1;34m\"Graph.html\"\u001b[0m\u001b[1;33m)\u001b[0m\u001b[1;33m\u001b[0m\u001b[1;33m\u001b[0m\u001b[0m\n",
      "\u001b[1;32mfakesource\u001b[0m in \u001b[0;36mquad\u001b[1;34m(self, left, right, top, bottom, **kwargs)\u001b[0m\n",
      "\u001b[1;32mC:\\Anaconda\\lib\\site-packages\\bokeh\\plotting\\helpers.py\u001b[0m in \u001b[0;36mfunc\u001b[1;34m(self, **kwargs)\u001b[0m\n\u001b[0;32m    755\u001b[0m         \u001b[0mincompatible_literal_spec_values\u001b[0m \u001b[1;33m+=\u001b[0m \u001b[0m_process_sequence_literals\u001b[0m\u001b[1;33m(\u001b[0m\u001b[0mglyphclass\u001b[0m\u001b[1;33m,\u001b[0m \u001b[0mglyph_ca\u001b[0m\u001b[1;33m,\u001b[0m \u001b[0msource\u001b[0m\u001b[1;33m,\u001b[0m \u001b[0mis_user_source\u001b[0m\u001b[1;33m)\u001b[0m\u001b[1;33m\u001b[0m\u001b[1;33m\u001b[0m\u001b[0m\n\u001b[0;32m    756\u001b[0m         \u001b[1;32mif\u001b[0m \u001b[0mincompatible_literal_spec_values\u001b[0m\u001b[1;33m:\u001b[0m\u001b[1;33m\u001b[0m\u001b[1;33m\u001b[0m\u001b[0m\n\u001b[1;32m--> 757\u001b[1;33m             \u001b[1;32mraise\u001b[0m \u001b[0mRuntimeError\u001b[0m\u001b[1;33m(\u001b[0m\u001b[0m_GLYPH_SOURCE_MSG\u001b[0m \u001b[1;33m%\u001b[0m \u001b[0mnice_join\u001b[0m\u001b[1;33m(\u001b[0m\u001b[0mincompatible_literal_spec_values\u001b[0m\u001b[1;33m,\u001b[0m \u001b[0mconjuction\u001b[0m\u001b[1;33m=\u001b[0m\u001b[1;34m\"and\"\u001b[0m\u001b[1;33m)\u001b[0m\u001b[1;33m)\u001b[0m\u001b[1;33m\u001b[0m\u001b[1;33m\u001b[0m\u001b[0m\n\u001b[0m\u001b[0;32m    758\u001b[0m \u001b[1;33m\u001b[0m\u001b[0m\n\u001b[0;32m    759\u001b[0m         \u001b[1;31m# handle the nonselection glyph, we always set one\u001b[0m\u001b[1;33m\u001b[0m\u001b[1;33m\u001b[0m\u001b[1;33m\u001b[0m\u001b[0m\n",
      "\u001b[1;31mRuntimeError\u001b[0m: \n\nExpected left and right to reference fields in the supplied data source.\n\nWhen a 'source' argument is passed to a glyph method, values that are sequences\n(like lists or arrays) must come from references to data columns in the source.\n\nFor instance, as an example:\n\n    source = ColumnDataSource(data=dict(x=a_list, y=an_array))\n\n    p.circle(x='x', y='y', source=source, ...) # pass column names and a source\n\nAlternatively, *all* data sequences may be provided as literals as long as a\nsource is *not* provided:\n\n    p.circle(x=a_list, y=an_array, ...)  # pass actual sequences and no source\n\n"
     ]
    }
   ],
   "source": [
    "from bokeh.plotting import figure, show, output_file\n",
    "from bokeh.io import show, save\n",
    "from bokeh.models import HoverTool, ColumnDataSource\n",
    "import pandas\n",
    "\n",
    "df[\"Start_string\"] = df[\"Start\"].dt.strftime(\"%Y-%m-%d %H:%M:%S\")\n",
    "df[\"End_string\"] = df[\"End\"].dt.strftime(\"%Y-%m-%d %H:%M:%S\")\n",
    "\n",
    "cds = ColumnDataSource(df)\n",
    "\n",
    "fig = figure(x_axis_type = 'datetime', height = 100, width = 500, sizing_mode = \"scale_both\", title = \"Motion Graph\")\n",
    "fig.yaxis.minor_tick_line_color = None\n",
    "fig.yaxis[0].ticker.desired_num_ticks = 1\n",
    "\n",
    "hover = HoverTool(tooltips = [(\"Start\",\"@Start_string\"),(\"End\",\"@End_string\")])\n",
    "fig.add_tools(hover)\n",
    "\n",
    "q = fig.quad(left = [\"Start\"], right = df[\"End\"], bottom = 0, top = 1, color = \"green\", source = cds)\n",
    "\n",
    "output_file(\"Graph.html\")\n",
    "show(fig)"
   ]
  }
 ],
 "metadata": {
  "kernelspec": {
   "display_name": "Python 3",
   "language": "python",
   "name": "python3"
  },
  "language_info": {
   "codemirror_mode": {
    "name": "ipython",
    "version": 3
   },
   "file_extension": ".py",
   "mimetype": "text/x-python",
   "name": "python",
   "nbconvert_exporter": "python",
   "pygments_lexer": "ipython3",
   "version": "3.7.1"
  }
 },
 "nbformat": 4,
 "nbformat_minor": 2
}
